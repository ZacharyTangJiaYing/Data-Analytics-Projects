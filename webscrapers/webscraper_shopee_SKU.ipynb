{
 "cells": [
  {
   "cell_type": "markdown",
   "metadata": {},
   "source": [
    "# Shopee SKU Scraper\n",
    "Last update: 24/3/20"
   ]
  },
  {
   "cell_type": "markdown",
   "metadata": {},
   "source": [
    "### **Library**"
   ]
  },
  {
   "cell_type": "code",
   "execution_count": null,
   "metadata": {},
   "outputs": [],
   "source": [
    "from selenium import webdriver\n",
    "from selenium.common.exceptions import NoSuchElementException\n",
    "from selenium.common.exceptions import ElementClickInterceptedException\n",
    "from selenium.common.exceptions import StaleElementReferenceException\n",
    "from selenium.webdriver.chrome.options import Options\n",
    "from selenium.common.exceptions import TimeoutException\n",
    "from webdriver_manager.chrome import ChromeDriverManager\n",
    "import time\n",
    "import json\n",
    "import time\n",
    "import pandas as pd\n",
    "import requests\n",
    "import datetime "
   ]
  },
  {
   "cell_type": "markdown",
   "metadata": {},
   "source": [
    "### **Settings**"
   ]
  },
  {
   "cell_type": "code",
   "execution_count": null,
   "metadata": {},
   "outputs": [],
   "source": [
    "# Settings for chrome driver\n",
    "options = Options()\n",
    "\n",
    "# options.add_argument('--headless')\n",
    "options.add_argument(\"--no-sandbox\")\n",
    "options.add_argument(\"--disable-infobars\")\n",
    "options.add_argument(\"--disable-dev-shm-usage\")\n",
    "options.add_argument(\"--disable-browser-side-navigation\")\n",
    "options.add_argument(\"--disable-gpu\") \n",
    "options.add_argument('--incognito')\n",
    "options.add_argument(\"start-maximized\")\n",
    "options.add_argument(\"enable-automation\")\n",
    "driver = webdriver.Chrome(ChromeDriverManager().install(), options=options)\n",
    "\n",
    "# Saved file directory\n",
    "filepath = input('Filepath: ')\n",
    "\n",
    "# Limits to page scraped\n",
    "scrape_limits = 10"
   ]
  },
  {
   "cell_type": "code",
   "execution_count": null,
   "metadata": {},
   "outputs": [],
   "source": [
    "# Insert target URL\n",
    "# eg https://shopee.sg/Kraft-Mailer-Boxes-Courier-Box-Corrugated-Cardboard-Box-5-Sizes-XS-S-M-L-XL-Bundle-of-10-20pcs-i.264522724.7334949205\n",
    "url = input('Target URL: ')\n",
    "driver.get(url)\n",
    "time.sleep(5)"
   ]
  },
  {
   "cell_type": "markdown",
   "metadata": {},
   "source": [
    "### **Scraping Algorithm**"
   ]
  },
  {
   "cell_type": "code",
   "execution_count": null,
   "metadata": {},
   "outputs": [],
   "source": [
    "\n",
    "today = datetime.datetime.today().strftime(\"%Y%m%d\")\n",
    "start_time = time.time()\n",
    "\n",
    "if \"shopee.com.my\" in str(url):\n",
    "    country = \"MY\"\n",
    "    \n",
    "if \"shopee.sg\" in str(url):\n",
    "    country = \"SG\"\n",
    "   \n",
    "if \"shopee.co.th\" in str(url):\n",
    "    country = \"TH\"\n",
    "    \n",
    "if \"shopee.co.id\" in str(url):\n",
    "    country = \"ID\"\n",
    "    \n",
    "if \"shopee.com.ph\" in str(url):\n",
    "    country = \"PH\"\n",
    "   \n",
    "if \"shopee.vn\" in str(url):\n",
    "    country = \"VN\"\n",
    "    \n",
    "driver.execute_script(\"window.scrollTo(0, 1000)\") \n",
    "time.sleep(2)\n",
    "driver.execute_script(\"window.scrollTo(0, 2000)\") \n",
    "time.sleep(2)\n",
    "driver.execute_script(\"window.scrollTo(0, 3000)\") \n",
    "time.sleep(2)\n",
    "driver.execute_script(\"window.scrollTo(0, 4000)\") \n",
    "time.sleep(2)\n",
    "driver.execute_script(\"window.scrollTo(0, 5000)\")\n",
    "time.sleep(5)\n",
    "driver.execute_script(\"window.scrollTo(0, 8000)\")\n",
    "time.sleep(5)\n",
    "\n",
    "def convert(x):\n",
    "    if 'k' in x:\n",
    "        x = float(x.replace('k','')) * 1000\n",
    "        return x\n",
    "    else:\n",
    "        return float(x)\n",
    "\n",
    "rating_list = [convert(i.text[8:-1]) for i in driver.find_elements_by_class_name('product-rating-overview__filter')[1:6]]\n",
    "number_of_ratings = sum(rating_list)\n",
    "if number_of_ratings % 6 < 6:\n",
    "    comment_pages = (number_of_ratings - (number_of_ratings % 6)) / 6 + 1\n",
    "else: comment_pages = number_of_ratings / 6\n",
    "    \n",
    "comment_page_counter = 1\n",
    "\n",
    "filename = driver.find_element_by_xpath('//div[@class=\"qaNIZv\"]/span').text\n",
    "variation_list = []\n",
    "date_list = []\n",
    "username_list = []\n",
    "comment_list = []\n",
    "\n",
    "while comment_page_counter < comment_pages:\n",
    "    try:\n",
    "        for i in driver.find_elements_by_class_name('shopee-product-rating__author-name'):\n",
    "            username_list.append(i.text)\n",
    "\n",
    "        for c in driver.find_elements_by_class_name('shopee-product-rating__content'):\n",
    "            comment_list.append(c.text)\n",
    "\n",
    "        for d in driver.find_elements_by_class_name('shopee-product-rating__time'):\n",
    "            date_list.append(d.text)\n",
    "\n",
    "        for v in driver.find_elements_by_class_name('shopee-product-rating__variation'):\n",
    "            variation_list.append(v.text)\n",
    "            \n",
    "        driver.find_elements_by_xpath('//div[@class=\"shopee-page-controller product-ratings__page-controller\"]/button')[-1].click()\n",
    "        comment_page_counter += 1\n",
    "        time.sleep(3)\n",
    "        \n",
    "    except (NoSuchElementException, StaleElementReferenceException, ElementClickInterceptedException): \n",
    "            pass "
   ]
  },
  {
   "cell_type": "markdown",
   "metadata": {},
   "source": [
    "### **Save to File**"
   ]
  },
  {
   "cell_type": "code",
   "execution_count": null,
   "metadata": {},
   "outputs": [],
   "source": [
    "df = pd.DataFrame(list(zip(date_list, username_list, comment_list, variation_list)), \n",
    "                  columns=[\"date\", \"username\", \"comment\", \"variation\"])\n",
    "\n",
    "df['date'] =  pd.to_datetime(datetime.datetime.today().strftime(\"%Y%m%d\"))\n",
    "df['platform'] = 'Shopee'\n",
    "\n",
    "data = df.to_csv('{0}/scraped.csv'.format(filepath) , index=False, encoding=\"utf-8_sig\")\n",
    "print('File for {0} saved! \\n'.format(filename))\n",
    "\n",
    "end_time = time.time()\n",
    "elapsed_time = end_time - start_time\n",
    "seconds = round(elapsed_time % 60, 2)\n",
    "minutes = round((elapsed_time - seconds) / 60, 1)\n",
    "print(\"Elapsed time: {0} minutes and {1} seconds!\".format(str(minutes), str(seconds)))"
   ]
  }
 ],
 "metadata": {
  "kernelspec": {
   "display_name": "Python 3",
   "language": "python",
   "name": "python3"
  },
  "language_info": {
   "codemirror_mode": {
    "name": "ipython",
    "version": 3
   },
   "file_extension": ".py",
   "mimetype": "text/x-python",
   "name": "python",
   "nbconvert_exporter": "python",
   "pygments_lexer": "ipython3",
   "version": "3.8.5"
  }
 },
 "nbformat": 4,
 "nbformat_minor": 4
}
